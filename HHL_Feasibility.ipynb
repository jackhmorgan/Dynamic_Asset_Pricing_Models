{
 "cells": [
  {
   "cell_type": "code",
   "execution_count": 1,
   "id": "2feb7556",
   "metadata": {},
   "outputs": [],
   "source": [
    "import numpy as np\n",
    "from AssetPricing import (GenerateEmpiricalProblems,\n",
    "                          GenerateEmpiricalProblemsSV,\n",
    "                          GenerateEmpiricalProblemsRD,\n",
    "                          Generate_D_Minus_E_problem,\n",
    "                          Generate_D_Minus_E_problem_SV,\n",
    "                          Generate_D_Minus_E_problem_RD,\n",
    ")"
   ]
  },
  {
   "cell_type": "code",
   "execution_count": 12,
   "id": "82b60015",
   "metadata": {},
   "outputs": [
    {
     "name": "stdout",
     "output_type": "stream",
     "text": [
      "(256, 256)\n",
      "4.393276007335813\n",
      "82\n",
      "3.889677829856965\n",
      "82\n",
      "6.917543108679763\n",
      "82\n",
      "4.099744961648419\n",
      "80\n",
      "3.9853967474039345\n",
      "82\n",
      "6.130513523620659\n",
      "82\n",
      "5.876962522987964\n",
      "82\n",
      "2.9538124704800226\n",
      "82\n",
      "5.588617926971697\n",
      "82\n",
      "82.92607849649147\n",
      "78\n"
     ]
    }
   ],
   "source": [
    "gamma = 2\n",
    "size = 64\n",
    "\n",
    "s3p_list = []\n",
    "\n",
    "for utility_function in ['CRRA', 'IES']:\n",
    "    for gamma in [2, 10]:\n",
    "        if not (utility_function == 'CRRA' and gamma==2):\n",
    "            # s3p_list.append(GenerateEmpiricalProblems(utility_function=utility_function, gamma=gamma, size=size))\n",
    "            # s3p_list.append(GenerateEmpiricalProblemsSV(utility_function=utility_function, gamma=gamma, size=size, gamma_g=0.3, pi_G = 0.8))\n",
    "            # s3p_list.append(GenerateEmpiricalProblemsSV(utility_function=utility_function, gamma=gamma, size=size, gamma_g=0.01, pi_G=0.95))\n",
    "\n",
    "            s3p_list.append(Generate_D_Minus_E_problem(utility_function=utility_function, gamma=gamma, size=size))\n",
    "            s3p_list.append(Generate_D_Minus_E_problem_SV(utility_function=utility_function, gamma=gamma, size=size, gamma_G=0.3, pi_G = 0.8))\n",
    "            s3p_list.append(Generate_D_Minus_E_problem_SV(utility_function=utility_function, gamma=gamma, size=size, gamma_G=0.01, pi_G=0.95))\n",
    "\n",
    "\n",
    "#s3p_list.append(GenerateEmpiricalProblemsRD(utility_function='CRRA', gamma=2, size=size))\n",
    "s3p_list.append(Generate_D_Minus_E_problem_RD(utility_function='CRRA', gamma=2, size=size))\n",
    "\n",
    "threshold = 1e-5\n",
    "print(s3p_list[0].A_matrix.shape)\n",
    "for p in s3p_list:\n",
    "    print(np.linalg.cond(p.A_matrix))\n",
    "    counts = np.sum(abs(p.A_matrix) > threshold, axis=1)\n",
    "    print(max(counts)[0,0])"
   ]
  },
  {
   "cell_type": "code",
   "execution_count": 13,
   "id": "a4ee8b3c",
   "metadata": {},
   "outputs": [],
   "source": [
    "A_matrix_list = []\n",
    "b_vector_list = []\n",
    "\n",
    "for problem in s3p_list:\n",
    "    A_matrix_list.append(problem.A_matrix)\n",
    "    b_vector_list.append(problem.b_vector)\n",
    "\n",
    "\n",
    "np.savez(f'example_problems_{size}.npz', A_matrix_list=A_matrix_list, b_vector_list=b_vector_list)"
   ]
  },
  {
   "cell_type": "code",
   "execution_count": null,
   "id": "0d54fd3d",
   "metadata": {},
   "outputs": [],
   "source": []
  }
 ],
 "metadata": {
  "kernelspec": {
   "display_name": "Python 3",
   "language": "python",
   "name": "python3"
  },
  "language_info": {
   "codemirror_mode": {
    "name": "ipython",
    "version": 3
   },
   "file_extension": ".py",
   "mimetype": "text/x-python",
   "name": "python",
   "nbconvert_exporter": "python",
   "pygments_lexer": "ipython3",
   "version": "3.11.0"
  }
 },
 "nbformat": 4,
 "nbformat_minor": 5
}
